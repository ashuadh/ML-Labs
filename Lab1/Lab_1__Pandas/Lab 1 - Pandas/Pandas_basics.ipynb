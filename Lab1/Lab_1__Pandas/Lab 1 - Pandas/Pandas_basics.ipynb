{
 "cells": [
  {
   "cell_type": "markdown",
   "metadata": {},
   "source": [
    "# Pandas\n",
    "\n",
    "We'll breeze through the basics here, and get onto some assignments in a bit. I want to provide the *barest* of intuition so things stick down the road.\n",
    "\n",
    "## Why pandas?\n",
    "\n",
    "NumPy is great. But it lacks a few things that are conducive to doing statisitcal analysis. By building on top of NumPy, pandas provides\n",
    "\n",
    "- labeled arrays\n",
    "- heterogenous data types within a table\n",
    "- \"better\" missing data handling\n",
    "- convenient methods (`groupby`, `rolling`, `resample`)\n",
    "- more data types (Categorical, Datetime)\n",
    "\n",
    "## Data Structures\n",
    "\n",
    "This is the typical starting point for any intro to pandas.\n",
    "We'll follow suit.\n",
    "\n",
    "### The DataFrame\n",
    "\n",
    "Here we have the workhorse data structure for pandas.\n",
    "It's an in-memory table holding your data, and provides a few conviniences over lists of lists or NumPy arrays."
   ]
  },
  {
   "cell_type": "code",
   "execution_count": null,
   "metadata": {
    "ExecuteTime": {
     "end_time": "2019-08-13T04:21:54.906692Z",
     "start_time": "2019-08-13T04:21:54.318945Z"
    }
   },
   "outputs": [],
   "source": [
    "import numpy as np\n",
    "import pandas as pd"
   ]
  },
  {
   "cell_type": "code",
   "execution_count": null,
   "metadata": {
    "ExecuteTime": {
     "end_time": "2019-08-13T04:21:54.940899Z",
     "start_time": "2019-08-13T04:21:54.910148Z"
    }
   },
   "outputs": [],
   "source": [
    "# Many ways to construct a DataFrame\n",
    "# We pass a dict of {column name: column values}\n",
    "np.random.seed(42)\n",
    "df = pd.DataFrame({'A': [1, 2, 3], \n",
    "                   'B': [True, True, False],\n",
    "                   'C': np.random.randn(3)},\n",
    "                  index=['a', 'b', 'c'])  # also this weird index thing\n",
    "df"
   ]
  },
  {
   "cell_type": "markdown",
   "metadata": {},
   "source": [
    "Notice that we can store a column of intergers, a column of booleans, and a column of floats in the same `DataFrame`."
   ]
  },
  {
   "cell_type": "markdown",
   "metadata": {},
   "source": [
    "### Indexing\n",
    "\n",
    "Our first improvement over numpy arrays is labeled indexing. We can select subsets by column, row, or both. Column selection uses the regular python `__getitem__` machinery. Pass in a single column label `'A'` or a list of labels `['A', 'C']` to select subsets of the original `DataFrame`."
   ]
  },
  {
   "cell_type": "code",
   "execution_count": null,
   "metadata": {
    "ExecuteTime": {
     "end_time": "2019-08-13T04:21:54.948835Z",
     "start_time": "2019-08-13T04:21:54.943380Z"
    }
   },
   "outputs": [],
   "source": [
    "# Single column, reduces to a Series\n",
    "df['A']"
   ]
  },
  {
   "cell_type": "code",
   "execution_count": null,
   "metadata": {
    "ExecuteTime": {
     "end_time": "2019-08-13T04:21:54.964224Z",
     "start_time": "2019-08-13T04:21:54.951316Z"
    }
   },
   "outputs": [],
   "source": [
    "cols = ['A', 'C']\n",
    "df[cols]"
   ]
  },
  {
   "cell_type": "markdown",
   "metadata": {},
   "source": [
    "For row-wise selection, use the special `.loc` accessor."
   ]
  },
  {
   "cell_type": "code",
   "execution_count": null,
   "metadata": {
    "ExecuteTime": {
     "end_time": "2019-08-13T04:21:54.992483Z",
     "start_time": "2019-08-13T04:21:54.967189Z"
    }
   },
   "outputs": [],
   "source": [
    "df.loc[['a', 'b']]"
   ]
  },
  {
   "cell_type": "markdown",
   "metadata": {},
   "source": [
    "You can use ranges to select rows or columns."
   ]
  },
  {
   "cell_type": "code",
   "execution_count": null,
   "metadata": {
    "ExecuteTime": {
     "end_time": "2019-08-13T04:21:55.013319Z",
     "start_time": "2019-08-13T04:21:54.994964Z"
    }
   },
   "outputs": [],
   "source": [
    "df.loc['a':'b']"
   ]
  },
  {
   "cell_type": "markdown",
   "metadata": {},
   "source": [
    "Notice that the slice is *inclusive* on both sides,  unlike your typical slicing of a list. Sometimes, you'd rather slice by *position* instead of label. `.iloc` has you covered:"
   ]
  },
  {
   "cell_type": "code",
   "execution_count": null,
   "metadata": {
    "ExecuteTime": {
     "end_time": "2019-08-13T04:21:55.028691Z",
     "start_time": "2019-08-13T04:21:55.014804Z"
    }
   },
   "outputs": [],
   "source": [
    "df.iloc[[0, 1]]"
   ]
  },
  {
   "cell_type": "code",
   "execution_count": null,
   "metadata": {
    "ExecuteTime": {
     "end_time": "2019-08-13T04:21:55.043076Z",
     "start_time": "2019-08-13T04:21:55.030676Z"
    }
   },
   "outputs": [],
   "source": [
    "df.iloc[:2]"
   ]
  },
  {
   "cell_type": "markdown",
   "metadata": {},
   "source": [
    "This follows the usual python slicing rules: closed on the left, open on the right.\n",
    "\n",
    "As I mentioned, you can slice both rows and columns. Use `.loc` for label or `.iloc` for position indexing."
   ]
  },
  {
   "cell_type": "code",
   "execution_count": null,
   "metadata": {
    "ExecuteTime": {
     "end_time": "2019-08-13T04:21:55.053988Z",
     "start_time": "2019-08-13T04:21:55.045556Z"
    }
   },
   "outputs": [],
   "source": [
    "df.loc['a', 'B']"
   ]
  },
  {
   "cell_type": "markdown",
   "metadata": {},
   "source": [
    "Pandas, like NumPy, will reduce dimensions when possible. Select a single column and you get back `Series` (see below). Select a single row and single column, you get a scalar.\n",
    "\n",
    "You can get pretty fancy:"
   ]
  },
  {
   "cell_type": "code",
   "execution_count": null,
   "metadata": {
    "ExecuteTime": {
     "end_time": "2019-08-13T04:21:55.068890Z",
     "start_time": "2019-08-13T04:21:55.056468Z"
    }
   },
   "outputs": [],
   "source": [
    "df.loc['a':'b', ['A', 'C']]"
   ]
  },
  {
   "cell_type": "markdown",
   "metadata": {},
   "source": [
    "#### Summary\n",
    "\n",
    "- Use `[]` for selecting columns\n",
    "- Use `.loc[row_lables, column_labels]` for label-based indexing\n",
    "- Use `.iloc[row_positions, column_positions]` for positional index\n",
    "\n",
    "I've left out boolean and hierarchical indexing, which we'll see later."
   ]
  },
  {
   "cell_type": "markdown",
   "metadata": {},
   "source": [
    "## Series\n",
    "\n",
    "You've already seen some `Series` up above. It's the 1-dimensional analog of the DataFrame. Each column in a `DataFrame` is in some sense a `Series`. You can select a `Series` from a DataFrame in a few ways:"
   ]
  },
  {
   "cell_type": "code",
   "execution_count": null,
   "metadata": {
    "ExecuteTime": {
     "end_time": "2019-08-13T04:21:55.077824Z",
     "start_time": "2019-08-13T04:21:55.070851Z"
    }
   },
   "outputs": [],
   "source": [
    "# __getitem__ like before\n",
    "df['A']"
   ]
  },
  {
   "cell_type": "code",
   "execution_count": null,
   "metadata": {
    "ExecuteTime": {
     "end_time": "2019-08-13T04:21:55.088215Z",
     "start_time": "2019-08-13T04:21:55.079283Z"
    }
   },
   "outputs": [],
   "source": [
    "# .loc, like before\n",
    "df.loc[:, 'A']"
   ]
  },
  {
   "cell_type": "code",
   "execution_count": null,
   "metadata": {
    "ExecuteTime": {
     "end_time": "2019-08-13T04:21:55.098628Z",
     "start_time": "2019-08-13T04:21:55.090692Z"
    }
   },
   "outputs": [],
   "source": [
    "# using `.` attribute lookup\n",
    "df.A"
   ]
  },
  {
   "cell_type": "code",
   "execution_count": null,
   "metadata": {
    "ExecuteTime": {
     "end_time": "2019-08-13T04:21:55.114005Z",
     "start_time": "2019-08-13T04:21:55.102101Z"
    }
   },
   "outputs": [],
   "source": [
    "df['mean'] = ['a', 'b', 'c']"
   ]
  },
  {
   "cell_type": "code",
   "execution_count": null,
   "metadata": {
    "ExecuteTime": {
     "end_time": "2019-08-13T04:21:55.123925Z",
     "start_time": "2019-08-13T04:21:55.117476Z"
    }
   },
   "outputs": [],
   "source": [
    "df['mean']"
   ]
  },
  {
   "cell_type": "code",
   "execution_count": null,
   "metadata": {
    "ExecuteTime": {
     "end_time": "2019-08-13T04:21:55.134837Z",
     "start_time": "2019-08-13T04:21:55.125908Z"
    }
   },
   "outputs": [],
   "source": [
    "df.mean"
   ]
  },
  {
   "cell_type": "markdown",
   "metadata": {},
   "source": [
    "You'll have to be careful with the last one. It won't work if you're column name isn't a valid python identifier (say it has a space) or if it conflicts with one of the (many) methods on `DataFrame`. The `.` accessor is extremely convient for interactive use though.\n",
    "\n",
    "You should never *assign* a column with `.` e.g. don't do\n",
    "\n",
    "```python\n",
    "# bad\n",
    "df.A = [1, 2, 3]\n",
    "```\n",
    "\n",
    "It's unclear whether your attaching the list `[1, 2, 3]` as an attribute of `df`, or whether you want it as a column. It's better to just say\n",
    "\n",
    "```python\n",
    "df['A'] = [1, 2, 3]\n",
    "# or\n",
    "df.loc[:, 'A'] = [1, 2, 3]\n",
    "```\n",
    "\n",
    "`Series` share many of the same methods as `DataFrame`s."
   ]
  },
  {
   "cell_type": "markdown",
   "metadata": {},
   "source": [
    "## Index\n",
    "\n",
    "`Index`es are something of a peculiarity to pandas.\n",
    "First off, they are not the kind of indexes you'll find in SQL, which are used to help the engine speed up certain queries.\n",
    "In pandas, `Index`es are about lables. This helps with selection (like we did above) and automatic alignment when performing operations between two `DataFrame`s or `Series`.\n",
    "\n",
    "R does have row labels, but they're nowhere near as powerful (or complicated) as in pandas. You can access the index of a `DataFrame` or `Series` with the `.index` attribute."
   ]
  },
  {
   "cell_type": "code",
   "execution_count": null,
   "metadata": {
    "ExecuteTime": {
     "end_time": "2019-08-13T04:21:55.146739Z",
     "start_time": "2019-08-13T04:21:55.136324Z"
    }
   },
   "outputs": [],
   "source": [
    "df.index"
   ]
  },
  {
   "cell_type": "code",
   "execution_count": null,
   "metadata": {
    "ExecuteTime": {
     "end_time": "2019-08-13T04:21:55.157156Z",
     "start_time": "2019-08-13T04:21:55.149716Z"
    }
   },
   "outputs": [],
   "source": [
    "df.columns"
   ]
  },
  {
   "cell_type": "markdown",
   "metadata": {},
   "source": [
    "## Operations"
   ]
  },
  {
   "cell_type": "code",
   "execution_count": null,
   "metadata": {
    "ExecuteTime": {
     "end_time": "2019-08-13T04:21:55.172535Z",
     "start_time": "2019-08-13T04:21:55.158645Z"
    }
   },
   "outputs": [],
   "source": [
    "np.random.seed(42)\n",
    "df = pd.DataFrame(np.random.uniform(0, 10, size=(3, 3)))\n",
    "df"
   ]
  },
  {
   "cell_type": "code",
   "execution_count": null,
   "metadata": {
    "ExecuteTime": {
     "end_time": "2019-08-13T04:21:55.207252Z",
     "start_time": "2019-08-13T04:21:55.176501Z"
    }
   },
   "outputs": [],
   "source": [
    "df + 1"
   ]
  },
  {
   "cell_type": "code",
   "execution_count": null,
   "metadata": {
    "ExecuteTime": {
     "end_time": "2019-08-13T04:21:55.218164Z",
     "start_time": "2019-08-13T04:21:55.208740Z"
    }
   },
   "outputs": [],
   "source": [
    "df ** 2"
   ]
  },
  {
   "cell_type": "code",
   "execution_count": null,
   "metadata": {
    "ExecuteTime": {
     "end_time": "2019-08-13T04:21:55.230123Z",
     "start_time": "2019-08-13T04:21:55.219653Z"
    }
   },
   "outputs": [],
   "source": [
    "np.log(df)"
   ]
  },
  {
   "cell_type": "markdown",
   "metadata": {},
   "source": [
    "DataFrames and Series have a bunch of useful aggregation methods, `.mean`, `.max`, `.std`, etc."
   ]
  },
  {
   "cell_type": "code",
   "execution_count": null,
   "metadata": {
    "ExecuteTime": {
     "end_time": "2019-08-13T04:21:55.238499Z",
     "start_time": "2019-08-13T04:21:55.231556Z"
    }
   },
   "outputs": [],
   "source": [
    "df.mean()"
   ]
  },
  {
   "cell_type": "markdown",
   "metadata": {},
   "source": [
    "## Loading Data"
   ]
  },
  {
   "cell_type": "code",
   "execution_count": null,
   "metadata": {
    "ExecuteTime": {
     "end_time": "2019-08-13T04:21:55.289739Z",
     "start_time": "2019-08-13T04:21:55.240058Z"
    }
   },
   "outputs": [],
   "source": [
    "df = pd.read_csv('beer_subset.csv.gz', parse_dates=['time'], compression='gzip')\n",
    "review_cols = ['review_appearance', 'review_aroma', 'review_overall',\n",
    "               'review_palate', 'review_taste']\n",
    "df.head()"
   ]
  },
  {
   "cell_type": "markdown",
   "metadata": {},
   "source": [
    "## Boolean indexing\n",
    "\n",
    "Like a where clause in SQL. The indexer (or boolean mask) should be 1-dimensional and the same length as the thing being indexed."
   ]
  },
  {
   "cell_type": "code",
   "execution_count": null,
   "metadata": {
    "ExecuteTime": {
     "end_time": "2019-08-13T04:21:55.298515Z",
     "start_time": "2019-08-13T04:21:55.291079Z"
    },
    "scrolled": true
   },
   "outputs": [],
   "source": [
    "df.abv < 5"
   ]
  },
  {
   "cell_type": "code",
   "execution_count": null,
   "metadata": {
    "ExecuteTime": {
     "end_time": "2019-08-13T04:21:55.319420Z",
     "start_time": "2019-08-13T04:21:55.301006Z"
    },
    "scrolled": false
   },
   "outputs": [],
   "source": [
    "df[df.abv < 5].head()"
   ]
  },
  {
   "cell_type": "markdown",
   "metadata": {},
   "source": [
    "Notice that we just used `[]` there. We can pass the boolean indexer in to `.loc` as well."
   ]
  },
  {
   "cell_type": "code",
   "execution_count": null,
   "metadata": {
    "ExecuteTime": {
     "end_time": "2019-08-13T04:21:55.335716Z",
     "start_time": "2019-08-13T04:21:55.320837Z"
    },
    "scrolled": true
   },
   "outputs": [],
   "source": [
    "df.loc[df.abv < 5, ['beer_style', 'review_overall']].head()"
   ]
  },
  {
   "cell_type": "markdown",
   "metadata": {},
   "source": [
    "Again, you can get complicated"
   ]
  },
  {
   "cell_type": "code",
   "execution_count": null,
   "metadata": {
    "ExecuteTime": {
     "end_time": "2019-08-13T04:21:55.384325Z",
     "start_time": "2019-08-13T04:21:55.337206Z"
    },
    "scrolled": true
   },
   "outputs": [],
   "source": [
    "df[((df.abv < 5) & (df.time > pd.Timestamp('2009-06'))) | (df.review_overall >= 4.5)]"
   ]
  },
  {
   "cell_type": "markdown",
   "metadata": {},
   "source": [
    "<div class=\"alert alert-success\">\n",
    "    <b>Exercise</b>: Find the American beers\n",
    "</div>\n",
    "\n",
    "Select just the rows where the `beer_style` contains `'American'`. \n",
    "\n",
    "Hint: `Series` containing strings have a bunch of [useful methods](http://pandas.pydata.org/pandas-docs/stable/text.html#method-summary) under the `DataFrame.<column>.str` namespace. Typically they correspond to regular python string methods, but\n",
    "\n",
    "- They gracefully propogate missing values\n",
    "- They're a bit more liberal about accepting regular expressions\n",
    "\n",
    "We can't use `'American' in df['beer_style']`, since `in` is used to check membership in the series itself, not the strings. But `in` uses `__contains__`, so look for a string method like that."
   ]
  },
  {
   "cell_type": "code",
   "execution_count": null,
   "metadata": {
    "ExecuteTime": {
     "end_time": "2019-08-13T04:21:55.395237Z",
     "start_time": "2019-08-13T04:21:55.386310Z"
    },
    "scrolled": true
   },
   "outputs": [],
   "source": [
    "df.beer_style.str.contains(\"American\")"
   ]
  },
  {
   "cell_type": "code",
   "execution_count": null,
   "metadata": {
    "ExecuteTime": {
     "end_time": "2019-08-13T04:21:55.443348Z",
     "start_time": "2019-08-13T04:21:55.397221Z"
    },
    "scrolled": true
   },
   "outputs": [],
   "source": [
    "# Your solution\n",
    "is_ipa = df.beer_style.str.contains(\"American\")\n",
    "df[is_ipa]"
   ]
  },
  {
   "cell_type": "markdown",
   "metadata": {},
   "source": [
    "## Groupby"
   ]
  },
  {
   "cell_type": "markdown",
   "metadata": {},
   "source": [
    "Groupby is a fundamental operation to pandas and data analysis.\n",
    "\n",
    "The components of a groupby operation are to\n",
    "\n",
    "1. Split a table into groups\n",
    "2. Apply a function to each group\n",
    "3. Combine the results\n",
    "\n",
    "In pandas the first step looks like\n",
    "\n",
    "```python\n",
    "df.groupby( grouper )\n",
    "```\n",
    "\n",
    "`grouper` can be many things\n",
    "\n",
    "- Series (or string indicating a column in `df`)\n",
    "- function (to be applied on the index)\n",
    "- dict : groups by *values*\n",
    "- `levels=[ names of levels in a MultiIndex ]`"
   ]
  },
  {
   "cell_type": "code",
   "execution_count": null,
   "metadata": {
    "ExecuteTime": {
     "end_time": "2019-08-13T04:21:55.450291Z",
     "start_time": "2019-08-13T04:21:55.445332Z"
    }
   },
   "outputs": [],
   "source": [
    "gr = df.groupby('beer_style')\n",
    "gr"
   ]
  },
  {
   "cell_type": "markdown",
   "metadata": {},
   "source": [
    "Haven't really done anything yet. Just some book-keeping to figure out which **keys** go with which **rows**. Keys are the things we've grouped by (each `beer_style` in this case).\n",
    "\n",
    "The last two steps, apply and combine, are just:"
   ]
  },
  {
   "cell_type": "code",
   "execution_count": null,
   "metadata": {
    "ExecuteTime": {
     "end_time": "2019-08-13T04:21:55.481539Z",
     "start_time": "2019-08-13T04:21:55.451780Z"
    },
    "scrolled": true
   },
   "outputs": [],
   "source": [
    "gr.agg('mean')"
   ]
  },
  {
   "cell_type": "code",
   "execution_count": null,
   "metadata": {
    "ExecuteTime": {
     "end_time": "2019-08-13T04:21:55.513283Z",
     "start_time": "2019-08-13T04:21:55.483537Z"
    },
    "scrolled": true
   },
   "outputs": [],
   "source": [
    "df.groupby('beer_style').mean()"
   ]
  },
  {
   "cell_type": "markdown",
   "metadata": {},
   "source": [
    "This says apply the `mean` function to each column. Non-numeric columns (nusiance columns) are excluded. We can also select a subset of columns to perform the aggregation on."
   ]
  },
  {
   "cell_type": "code",
   "execution_count": null,
   "metadata": {
    "ExecuteTime": {
     "end_time": "2019-08-13T04:21:55.536595Z",
     "start_time": "2019-08-13T04:21:55.514771Z"
    },
    "scrolled": true
   },
   "outputs": [],
   "source": [
    "gr[review_cols].agg('mean')"
   ]
  },
  {
   "cell_type": "markdown",
   "metadata": {},
   "source": [
    "`.` attribute lookup works as well."
   ]
  },
  {
   "cell_type": "code",
   "execution_count": null,
   "metadata": {
    "ExecuteTime": {
     "end_time": "2019-08-13T04:21:55.545523Z",
     "start_time": "2019-08-13T04:21:55.538084Z"
    },
    "scrolled": true
   },
   "outputs": [],
   "source": [
    "gr.abv.agg('mean')"
   ]
  },
  {
   "cell_type": "markdown",
   "metadata": {},
   "source": [
    "Certain operations are attached directly to the `GroupBy` object, letting you bypass the `.agg` part"
   ]
  },
  {
   "cell_type": "code",
   "execution_count": null,
   "metadata": {
    "ExecuteTime": {
     "end_time": "2019-08-13T04:21:55.557428Z",
     "start_time": "2019-08-13T04:21:55.547508Z"
    },
    "scrolled": true
   },
   "outputs": [],
   "source": [
    "gr.abv.mean()"
   ]
  },
  {
   "cell_type": "markdown",
   "metadata": {},
   "source": [
    "Now we'll run the gamut on a bunch of grouper / apply combinations.\n",
    "Keep sight of the target though: split, apply, combine.\n",
    "\n",
    "- Grouper: Controls the output index\n",
    "    * single grouper -> `Index`\n",
    "    * array-like grouper -> `MultiIndex`\n",
    "- Subject (Groupee): Controls the output data values\n",
    "    * single column -> `Series` (or DataFrame if multiple aggregations)\n",
    "    * multiple columns -> `DataFrame`\n",
    "- Aggregation: Controls the output columns\n",
    "    * single aggfunc -> `Index` in the colums\n",
    "    * multiple aggfuncs -> `MultiIndex` in the columns (Or 1-D Index groupee is 1-d)"
   ]
  },
  {
   "cell_type": "markdown",
   "metadata": {},
   "source": [
    "Multiple Aggregations on one column"
   ]
  },
  {
   "cell_type": "code",
   "execution_count": null,
   "metadata": {
    "ExecuteTime": {
     "end_time": "2019-08-13T04:21:55.572307Z",
     "start_time": "2019-08-13T04:21:55.558916Z"
    }
   },
   "outputs": [],
   "source": [
    "gr['review_aroma'].agg(['mean', 'std', 'count']).head()"
   ]
  },
  {
   "cell_type": "markdown",
   "metadata": {},
   "source": [
    "Single Aggregation on multiple columns"
   ]
  },
  {
   "cell_type": "code",
   "execution_count": null,
   "metadata": {
    "ExecuteTime": {
     "end_time": "2019-08-13T04:21:55.593168Z",
     "start_time": "2019-08-13T04:21:55.573796Z"
    },
    "scrolled": true
   },
   "outputs": [],
   "source": [
    "gr[review_cols].mean()"
   ]
  },
  {
   "cell_type": "markdown",
   "metadata": {
    "collapsed": true
   },
   "source": [
    "Multiple aggregations on multiple columns"
   ]
  },
  {
   "cell_type": "code",
   "execution_count": null,
   "metadata": {
    "ExecuteTime": {
     "end_time": "2019-08-13T04:21:55.656627Z",
     "start_time": "2019-08-13T04:21:55.594656Z"
    }
   },
   "outputs": [],
   "source": [
    "gr[review_cols].agg(['mean', 'count', 'std'])"
   ]
  },
  {
   "cell_type": "markdown",
   "metadata": {},
   "source": [
    "Hierarchical Indexes in the columns can be awkward to work with, so I'll usually\n",
    "move a level to the Index with `.stack`."
   ]
  },
  {
   "cell_type": "code",
   "execution_count": null,
   "metadata": {
    "ExecuteTime": {
     "end_time": "2019-08-13T04:21:55.693829Z",
     "start_time": "2019-08-13T04:21:55.658116Z"
    }
   },
   "outputs": [],
   "source": [
    "multi = gr[review_cols].agg(['mean', 'count', 'std']).stack(level=0)\n",
    "multi.head(10)"
   ]
  },
  {
   "cell_type": "markdown",
   "metadata": {},
   "source": [
    "You can group by **levels** of a MultiIndex."
   ]
  },
  {
   "cell_type": "code",
   "execution_count": null,
   "metadata": {
    "ExecuteTime": {
     "end_time": "2019-08-13T04:21:55.715683Z",
     "start_time": "2019-08-13T04:21:55.698789Z"
    },
    "scrolled": true
   },
   "outputs": [],
   "source": [
    "multi.groupby(level='beer_style')['mean'].agg(['min', 'max'])"
   ]
  },
  {
   "cell_type": "markdown",
   "metadata": {},
   "source": [
    "Group by **multiple** columns"
   ]
  },
  {
   "cell_type": "code",
   "execution_count": null,
   "metadata": {
    "ExecuteTime": {
     "end_time": "2019-08-13T04:21:55.731030Z",
     "start_time": "2019-08-13T04:21:55.719152Z"
    },
    "scrolled": true
   },
   "outputs": [],
   "source": [
    "df.groupby(['brewer_id', 'beer_style']).review_overall.mean()"
   ]
  },
  {
   "cell_type": "code",
   "execution_count": null,
   "metadata": {
    "ExecuteTime": {
     "end_time": "2019-08-13T04:21:55.760816Z",
     "start_time": "2019-08-13T04:21:55.732516Z"
    },
    "scrolled": true
   },
   "outputs": [],
   "source": [
    "df.groupby(['brewer_id', 'beer_style'])[review_cols].mean()"
   ]
  },
  {
   "cell_type": "code",
   "execution_count": null,
   "metadata": {},
   "outputs": [],
   "source": []
  }
 ],
 "metadata": {
  "kernelspec": {
   "display_name": "Python 3",
   "language": "python",
   "name": "python3"
  },
  "language_info": {
   "codemirror_mode": {
    "name": "ipython",
    "version": 3
   },
   "file_extension": ".py",
   "mimetype": "text/x-python",
   "name": "python",
   "nbconvert_exporter": "python",
   "pygments_lexer": "ipython3",
   "version": "3.7.3"
  },
  "toc": {
   "base_numbering": 1,
   "nav_menu": {},
   "number_sections": true,
   "sideBar": true,
   "skip_h1_title": false,
   "title_cell": "Table of Contents",
   "title_sidebar": "Contents",
   "toc_cell": false,
   "toc_position": {},
   "toc_section_display": true,
   "toc_window_display": false
  },
  "varInspector": {
   "cols": {
    "lenName": 16,
    "lenType": 16,
    "lenVar": 40
   },
   "kernels_config": {
    "python": {
     "delete_cmd_postfix": "",
     "delete_cmd_prefix": "del ",
     "library": "var_list.py",
     "varRefreshCmd": "print(var_dic_list())"
    },
    "r": {
     "delete_cmd_postfix": ") ",
     "delete_cmd_prefix": "rm(",
     "library": "var_list.r",
     "varRefreshCmd": "cat(var_dic_list()) "
    }
   },
   "types_to_exclude": [
    "module",
    "function",
    "builtin_function_or_method",
    "instance",
    "_Feature"
   ],
   "window_display": false
  }
 },
 "nbformat": 4,
 "nbformat_minor": 2
}
